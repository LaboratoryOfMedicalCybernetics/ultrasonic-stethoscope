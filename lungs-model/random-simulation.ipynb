{
 "cells": [
  {
   "cell_type": "code",
   "execution_count": 25,
   "metadata": {},
   "outputs": [],
   "source": [
    "import numpy as np\n",
    "import matplotlib.pyplot as plt\n",
    "plt.rcParams['figure.figsize'] = [10, 10] # 10 x 10 inches plot"
   ]
  },
  {
   "cell_type": "code",
   "execution_count": 73,
   "metadata": {},
   "outputs": [],
   "source": [
    "N = 512\n",
    "S = 10 # number of slices / CT-images / scans\n",
    "r = np.random.random((S, N, N))\n",
    "ro  = 1e-5 + 1.24e-3*r - 2.83e-7*r*r + 2.79e-11*r*r*r\n",
    "# c = np.empty_like(r)\n",
    "c = (ro + 0.112) * 1.38e-6\n",
    "K = np.zeros((S, N, N))\n",
    "\n",
    "# тут не факт что все 1\n",
    "l = 1 # dt\n",
    "h = 1 # dx = dy = dz\n",
    "\n",
    "# initial conditions\n",
    "P_pp = np.zeros((S, N, N), dtype=np.float64) # previous previous t - 2\n",
    "P_p  = np.zeros((S, N, N), dtype=np.float64) # previous          t - 1\n",
    "P    = np.zeros((S, N, N), dtype=np.float64) # current           t\n",
    "\n",
    "# sound source location\n",
    "A = 0\n",
    "B = N // 2\n",
    "C = N // 2\n",
    "ro[A, B, C] = 1\n",
    "\n",
    "# sine wave sound frequency\n",
    "f = 440.\n",
    "t = 0.0"
   ]
  },
  {
   "cell_type": "code",
   "execution_count": 54,
   "metadata": {},
   "outputs": [
    {
     "name": "stdout",
     "output_type": "stream",
     "text": [
      "1.0\n"
     ]
    }
   ],
   "source": [
    "print(ro[A, B, C])"
   ]
  },
  {
   "cell_type": "code",
   "execution_count": 33,
   "metadata": {},
   "outputs": [],
   "source": [
    "# r.dtype\n",
    "# c.shape\n",
    "# r.shape\n",
    "# type(c)\n",
    "\n",
    "# it = np.nditer(r[2:-2, 2:-2, 2:-2], flags=['multi_index'])\n",
    "# while not it.finished:\n",
    "#     print(it.multi_index[0], r[it.multi_index])\n",
    "#     it.iternext()"
   ]
  },
  {
   "cell_type": "code",
   "execution_count": 1,
   "metadata": {},
   "outputs": [
    {
     "ename": "NameError",
     "evalue": "name 'S' is not defined",
     "output_type": "error",
     "traceback": [
      "\u001b[0;31m---------------------------------------------------------------------------\u001b[0m",
      "\u001b[0;31mNameError\u001b[0m                                 Traceback (most recent call last)",
      "\u001b[0;32m<ipython-input-1-5bfe8aa6c177>\u001b[0m in \u001b[0;36m<module>\u001b[0;34m()\u001b[0m\n\u001b[1;32m      1\u001b[0m \u001b[0;31m# slow explicit n^3, c-style implementation v0.2\u001b[0m\u001b[0;34m\u001b[0m\u001b[0;34m\u001b[0m\u001b[0m\n\u001b[0;32m----> 2\u001b[0;31m \u001b[0;32mfor\u001b[0m \u001b[0mi\u001b[0m \u001b[0;32min\u001b[0m \u001b[0mrange\u001b[0m\u001b[0;34m(\u001b[0m\u001b[0;36m2\u001b[0m\u001b[0;34m,\u001b[0m \u001b[0mS\u001b[0m \u001b[0;34m-\u001b[0m \u001b[0;36m2\u001b[0m\u001b[0;34m)\u001b[0m\u001b[0;34m:\u001b[0m\u001b[0;34m\u001b[0m\u001b[0m\n\u001b[0m\u001b[1;32m      3\u001b[0m     \u001b[0;32mfor\u001b[0m \u001b[0mj\u001b[0m \u001b[0;32min\u001b[0m \u001b[0mrange\u001b[0m\u001b[0;34m(\u001b[0m\u001b[0;36m2\u001b[0m\u001b[0;34m,\u001b[0m \u001b[0mN\u001b[0m \u001b[0;34m-\u001b[0m \u001b[0;36m2\u001b[0m\u001b[0;34m)\u001b[0m\u001b[0;34m:\u001b[0m\u001b[0;34m\u001b[0m\u001b[0m\n\u001b[1;32m      4\u001b[0m         \u001b[0;32mfor\u001b[0m \u001b[0mk\u001b[0m \u001b[0;32min\u001b[0m \u001b[0mrange\u001b[0m\u001b[0;34m(\u001b[0m\u001b[0;36m2\u001b[0m\u001b[0;34m,\u001b[0m \u001b[0mN\u001b[0m \u001b[0;34m-\u001b[0m \u001b[0;36m2\u001b[0m\u001b[0;34m)\u001b[0m\u001b[0;34m:\u001b[0m\u001b[0;34m\u001b[0m\u001b[0m\n\u001b[1;32m      5\u001b[0m             \u001b[0;32mif\u001b[0m \u001b[0mro\u001b[0m\u001b[0;34m[\u001b[0m\u001b[0mi\u001b[0m\u001b[0;34m,\u001b[0m \u001b[0mj\u001b[0m\u001b[0;34m,\u001b[0m \u001b[0mk\u001b[0m\u001b[0;34m]\u001b[0m \u001b[0;34m<\u001b[0m \u001b[0;36m0.1\u001b[0m \u001b[0;32mand\u001b[0m \u001b[0mi\u001b[0m \u001b[0;34m!=\u001b[0m \u001b[0mA\u001b[0m \u001b[0;32mand\u001b[0m \u001b[0mj\u001b[0m \u001b[0;34m!=\u001b[0m \u001b[0mB\u001b[0m \u001b[0;32mand\u001b[0m \u001b[0mk\u001b[0m \u001b[0;34m!=\u001b[0m \u001b[0mC\u001b[0m\u001b[0;34m:\u001b[0m \u001b[0;31m# refl􏰂ecting condition\u001b[0m\u001b[0;34m\u001b[0m\u001b[0m\n",
      "\u001b[0;31mNameError\u001b[0m: name 'S' is not defined"
     ]
    }
   ],
   "source": [
    "# slow explicit n^3, c-style implementation v0.2\n",
    "for i in range(2, S - 2):\n",
    "    for j in range(2, N - 2):\n",
    "        for k in range(2, N - 2):\n",
    "            if ro[i, j, k] < 0.1 and i != A and j != B and k != C: # refl􏰂ecting condition | use numpy masking\n",
    "                P[i, j, k] = 0\n",
    "            else:\n",
    "                K[i, j, k] = l / h * c[i, j, k]\n",
    "                K2 = K[i, j, k] ** 2\n",
    "                K2_3_ro = K2 / 3 / ro[i, j, k]\n",
    "\n",
    "                # need some optimisation, with K2, K2_3_ro, чтобы считать меньше\n",
    "                # K2. K2_3_ro - put outside for loops\n",
    "                # Первое слагаемое можно тоже вынести outside for loops - там простое сложение\n",
    "                # можно slices + sum вместо много + + + +\n",
    "                P[i, j, k] = (2 - 7.5 * K2) * P_p[i, j, k] - P_pp[i, j, k] \\\n",
    "                    + 4/3 * K2 * (P_p[i + 1, j    , k    ] + \\\n",
    "                                  P_p[i - 1, j    , k    ] + \\\n",
    "                                  P_p[i    , j + 1, k    ] + \\\n",
    "                                  P_p[i    , j - 1, k    ] + \\\n",
    "                                  P_p[i    , j    , k + 1] + \\\n",
    "                                  P_p[i    , j    , k - 1] ) \\\n",
    "                    - K2 / 12 *  (P_p[i + 2, j    , k    ] + \\\n",
    "                                  P_p[i - 2, j    , k    ] + \\\n",
    "                                  P_p[i    , j + 2, k    ] + \\\n",
    "                                  P_p[i    , j - 2, k    ] + \\\n",
    "                                  P_p[i    , j    , k + 2] + \\\n",
    "                                  P_p[i    , j    , k - 2] ) \\\n",
    "                    - K2_3_ro * ((P_p[i + 1, j    , k    ] - P_p[i-1 , j  , k  ]) - (P_p[i + 2, j, k] - P_p[i - 2, j, k]) / 8) * (ro[i + 1, j, k] - ro[i - 1, j, k]) \\\n",
    "                    - K2_3_ro * ((P_p[i    , j + 1, k    ] - P_p[i   , j-1, k  ]) - (P_p[i, j + 2, k] - P_p[i, j - 2, k]) / 8) * (ro[i, j + 1, k] - ro[i, j - 1, k]) \\\n",
    "                    - K2_3_ro * ((P_p[i    , j    , k + 1] - P_p[i-1 , j  , k-1]) - (P_p[i, j, k + 2] - P_p[i, j, k - 2]) / 8) * (ro[i, j, k + 1] - ro[i, j, k - 1])\n",
    "                t += 0.1\n",
    "                P[A, B, C] = np.sin(2 * np.pi * f * t)\n",
    "                P_pp = P_\n",
    "# plt.imshow(P[0])\n",
    "# print(P[0])"
   ]
  },
  {
   "cell_type": "code",
   "execution_count": null,
   "metadata": {},
   "outputs": [],
   "source": [
    "ro[0]"
   ]
  },
  {
   "cell_type": "code",
   "execution_count": 47,
   "metadata": {},
   "outputs": [
    {
     "data": {
      "text/plain": [
       "array([[0., 0., 0., 0., 0., 0., 0., 0., 0., 0.],\n",
       "       [0., 0., 0., 0., 0., 0., 0., 0., 0., 0.],\n",
       "       [0., 0., 0., 0., 0., 0., 0., 0., 0., 0.],\n",
       "       [0., 0., 0., 0., 0., 0., 0., 0., 0., 0.],\n",
       "       [0., 0., 0., 0., 0., 0., 0., 0., 0., 0.],\n",
       "       [0., 0., 0., 0., 0., 0., 0., 0., 0., 0.],\n",
       "       [0., 0., 0., 0., 0., 0., 0., 0., 0., 0.],\n",
       "       [0., 0., 0., 0., 0., 0., 0., 0., 0., 0.],\n",
       "       [0., 0., 0., 0., 0., 0., 0., 0., 0., 0.],\n",
       "       [0., 0., 0., 0., 0., 0., 0., 0., 0., 0.]])"
      ]
     },
     "execution_count": 47,
     "metadata": {},
     "output_type": "execute_result"
    }
   ],
   "source": [
    "K[0]"
   ]
  },
  {
   "cell_type": "code",
   "execution_count": 48,
   "metadata": {},
   "outputs": [
    {
     "data": {
      "text/plain": [
       "array([[0., 0., 0., 0., 0., 0., 0., 0., 0., 0.],\n",
       "       [0., 0., 0., 0., 0., 0., 0., 0., 0., 0.],\n",
       "       [0., 0., 0., 0., 0., 0., 0., 0., 0., 0.],\n",
       "       [0., 0., 0., 0., 0., 0., 0., 0., 0., 0.],\n",
       "       [0., 0., 0., 0., 0., 0., 0., 0., 0., 0.],\n",
       "       [0., 0., 0., 0., 0., 0., 0., 0., 0., 0.],\n",
       "       [0., 0., 0., 0., 0., 0., 0., 0., 0., 0.],\n",
       "       [0., 0., 0., 0., 0., 0., 0., 0., 0., 0.],\n",
       "       [0., 0., 0., 0., 0., 0., 0., 0., 0., 0.],\n",
       "       [0., 0., 0., 0., 0., 0., 0., 0., 0., 0.]])"
      ]
     },
     "execution_count": 48,
     "metadata": {},
     "output_type": "execute_result"
    }
   ],
   "source": [
    "# plt.hist(K.flatten(), bins=100)\n",
    "K[0]"
   ]
  },
  {
   "cell_type": "code",
   "execution_count": 60,
   "metadata": {},
   "outputs": [
    {
     "data": {
      "text/plain": [
       "array([1.56029157e-07, 1.56088923e-07, 1.55046868e-07, 1.54948436e-07,\n",
       "       1.54860127e-07, 1.56100348e-07, 1.55845210e-07, 1.55225622e-07,\n",
       "       1.54920168e-07, 1.56046582e-07])"
      ]
     },
     "execution_count": 60,
     "metadata": {},
     "output_type": "execute_result"
    }
   ],
   "source": [
    "c[0][0]"
   ]
  },
  {
   "cell_type": "code",
   "execution_count": 78,
   "metadata": {},
   "outputs": [
    {
     "name": "stdout",
     "output_type": "stream",
     "text": [
      "for i in range(n): y[i] = x[i]\n",
      "Time = 2.2633061820233706\n",
      "\n",
      "y[:] = x\n",
      "Time = 0.006901468004798517\n",
      "\n",
      "np.copyto(y, x)\n",
      "Time = 0.006254913983866572\n",
      "\n",
      "y = np.empty_like(x)\n",
      "y[:] = x\n",
      "Time = 0.012216715986141935\n",
      "\n",
      "y = np.empty(n)\n",
      "y[:] = x\n",
      "Time = 0.0205626429815311\n",
      "\n",
      "y = np.zeros_like(x)\n",
      "y[:] = x\n",
      "Time = 0.05558887901133858\n",
      "\n",
      "y = np.zeros(n)\n",
      "y[:] = x\n",
      "Time = 0.02236265200190246\n",
      "\n",
      "y = np.copy(x)\n",
      "Time = 0.020289150008466095\n",
      "\n",
      "y = np.array(x)\n",
      "Time = 0.00822795499698259\n",
      "\n",
      "y = 1*x\n",
      "Time = 0.01861786301014945\n",
      "\n"
     ]
    }
   ],
   "source": [
    "import timeit\n",
    "import numpy as np\n",
    "from distutils.version import StrictVersion\n",
    "from six.moves import range\n",
    "\n",
    "setup = \"\"\"\n",
    "import numpy as np\n",
    "from six.moves import range\n",
    "n = 1000\n",
    "x = np.random.random(n)\n",
    "y = np.empty_like(x)\n",
    "\"\"\"\n",
    "\n",
    "# These methods modify y so that all its values are equal to those in x.\n",
    "methods = [\n",
    "\"for i in range(n): y[i] = x[i]\",\n",
    "\"y[:] = x\"\n",
    "]\n",
    "if StrictVersion(np.__version__) >= StrictVersion('1.7.0'):\n",
    "    methods.append(\"np.copyto(y, x)\")\n",
    "\n",
    "# These methods create a new object y with values equal to those in x.\n",
    "methods.extend(\n",
    "\"\"\"\n",
    "y = np.empty_like(x)\n",
    "y[:] = x\n",
    "#\n",
    "y = np.empty(n)\n",
    "y[:] = x\n",
    "#\n",
    "y = np.zeros_like(x)\n",
    "y[:] = x\n",
    "#\n",
    "y = np.zeros(n)\n",
    "y[:] = x\n",
    "#\n",
    "y = np.copy(x)\n",
    "#\n",
    "y = np.array(x)\n",
    "#\n",
    "y = 1*x\n",
    "\"\"\".split('#\\n')\n",
    ")\n",
    "\n",
    "niter = 10000\n",
    "\n",
    "for method in methods:\n",
    "    print(method.strip())\n",
    "    print('Time =', timeit.timeit(method, setup=setup, number=niter))\n",
    "    print()"
   ]
  },
  {
   "cell_type": "code",
   "execution_count": 80,
   "metadata": {},
   "outputs": [],
   "source": [
    "P_pp = np.array([0, 1, 2, 3])\n",
    "P_p  = np.array([4, 4, 4, 4])\n",
    "P    = np.array([0, 0, 0, 0])"
   ]
  },
  {
   "cell_type": "code",
   "execution_count": 81,
   "metadata": {},
   "outputs": [],
   "source": [
    "P_pp = P_p\n",
    "P_p = P"
   ]
  },
  {
   "cell_type": "code",
   "execution_count": 86,
   "metadata": {},
   "outputs": [],
   "source": [
    "P[3] = 7"
   ]
  },
  {
   "cell_type": "code",
   "execution_count": 89,
   "metadata": {},
   "outputs": [
    {
     "data": {
      "text/plain": [
       "array([4, 4, 4, 4])"
      ]
     },
     "execution_count": 89,
     "metadata": {},
     "output_type": "execute_result"
    }
   ],
   "source": [
    "P_pp"
   ]
  },
  {
   "cell_type": "code",
   "execution_count": 88,
   "metadata": {},
   "outputs": [
    {
     "data": {
      "text/plain": [
       "array([0, 0, 0, 7])"
      ]
     },
     "execution_count": 88,
     "metadata": {},
     "output_type": "execute_result"
    }
   ],
   "source": [
    "P_p"
   ]
  },
  {
   "cell_type": "code",
   "execution_count": null,
   "metadata": {},
   "outputs": [],
   "source": []
  }
 ],
 "metadata": {
  "kernelspec": {
   "display_name": "Python 3",
   "language": "python",
   "name": "python3"
  },
  "language_info": {
   "codemirror_mode": {
    "name": "ipython",
    "version": 3
   },
   "file_extension": ".py",
   "mimetype": "text/x-python",
   "name": "python",
   "nbconvert_exporter": "python",
   "pygments_lexer": "ipython3",
   "version": "3.6.4"
  }
 },
 "nbformat": 4,
 "nbformat_minor": 2
}
