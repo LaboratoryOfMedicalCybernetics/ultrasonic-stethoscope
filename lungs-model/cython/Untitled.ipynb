{
 "cells": [
  {
   "cell_type": "code",
   "execution_count": 3,
   "metadata": {},
   "outputs": [],
   "source": [
    "import numpy as np\n",
    "\n",
    "N = 16\n",
    "S = 12 # first test simple case when N == S\n",
    "# S = 10 # number of slices / CT-images / scans\n",
    "\n",
    "r = np.random.random((S, N, N))\n",
    "# r = np.load('r.npy')\n",
    "ro  = 1e-5 + 1.24e-3*r - 2.83e-7*r*r + 2.79e-11*r*r*r\n",
    "c = (ro + 0.112) * 1.38e-6\n",
    "\n",
    "# тут не факт что все 1\n",
    "l = 1 # dt\n",
    "h = 1 # dx = dy = dz\n",
    "\n",
    "K = l / h * c\n",
    "K2 = K**2\n",
    "K2_3_ro = K2 / 3 / ro\n",
    "\n",
    "\n",
    "# initial conditions\n",
    "P_pp = np.random.random((S, N, N)) # previous previous t - 2\n",
    "P_p  = np.random.random((S, N, N)) # previous          t - 1"
   ]
  },
  {
   "cell_type": "code",
   "execution_count": 4,
   "metadata": {},
   "outputs": [],
   "source": [
    "def old_slow1(P_pp, P_p):\n",
    "    '''slow explicit n^3, c-style implementation v0.2'''\n",
    "    \n",
    "    S = P_p.shape[0]\n",
    "    N = P_p.shape[1]\n",
    "\n",
    "    # P[2:-2, 2:-2, 2:-2] = (2 - 7.5 * K2[2:-2, 2:-2, 2:-2]) * P_p[2:-2, 2:-2, 2:-2] - P_pp[2:-2, 2:-2, 2:-2]\n",
    "    # P = np.zeros_like(P_p)\n",
    "\n",
    "    P = (2 - 7.5 * K2) * P_p - P_pp\n",
    "\n",
    "\n",
    "    for i in range(2, S - 2):\n",
    "        for j in range(2, N - 2):\n",
    "            for k in range(2, N - 2):\n",
    "                s1 = (P_p[i + 1, j    , k    ] + \\\n",
    "                      P_p[i - 1, j    , k    ] + \\\n",
    "                      P_p[i    , j + 1, k    ] + \\\n",
    "                      P_p[i    , j - 1, k    ] + \\\n",
    "                      P_p[i    , j    , k + 1] + \\\n",
    "                      P_p[i    , j    , k - 1]\n",
    "                )\n",
    "                P[i, j, k] += 4/3 * K2[i, j, k] * s1\n",
    "\n",
    "                s2 = (P_p[i + 2, j    , k    ] + \\\n",
    "                      P_p[i - 2, j    , k    ] + \\\n",
    "                      P_p[i    , j + 2, k    ] + \\\n",
    "                      P_p[i    , j - 2, k    ] + \\\n",
    "                      P_p[i    , j    , k + 2] + \\\n",
    "                      P_p[i    , j    , k - 2]\n",
    "                )\n",
    "                P[i, j, k] -= K2[i, j, k] / 12 * s2\n",
    "\n",
    "                s3 = ((P_p[i + 1, j    , k    ] - P_p[i-1 , j  , k  ]) - (P_p[i + 2, j, k] - P_p[i - 2, j, k]) / 8) * (ro[i + 1, j, k] - ro[i - 1, j, k])\n",
    "                s4 = ((P_p[i    , j + 1, k    ] - P_p[i   , j-1, k  ]) - (P_p[i, j + 2, k] - P_p[i, j - 2, k]) / 8) * (ro[i, j + 1, k] - ro[i, j - 1, k])\n",
    "                s5 = ((P_p[i    , j    , k + 1] - P_p[i-1 , j  , k-1]) - (P_p[i, j, k + 2] - P_p[i, j, k - 2]) / 8) * (ro[i, j, k + 1] - ro[i, j, k - 1])\n",
    "                P -= K2_3_ro[i, j, k] * s3\n",
    "                P -= K2_3_ro[i, j, k] * s4\n",
    "                P -= K2_3_ro[i, j, k] * s5\n",
    "    return P[2:-2, 2:-2, 2:-2]"
   ]
  },
  {
   "cell_type": "code",
   "execution_count": 5,
   "metadata": {},
   "outputs": [
    {
     "name": "stdout",
     "output_type": "stream",
     "text": [
      "35.3 ms ± 1.76 ms per loop (mean ± std. dev. of 7 runs, 10 loops each)\n"
     ]
    }
   ],
   "source": [
    "%timeit old_slow1(P_pp, P_p)"
   ]
  },
  {
   "cell_type": "code",
   "execution_count": null,
   "metadata": {},
   "outputs": [],
   "source": []
  }
 ],
 "metadata": {
  "kernelspec": {
   "display_name": "Python 3",
   "language": "python",
   "name": "python3"
  },
  "language_info": {
   "codemirror_mode": {
    "name": "ipython",
    "version": 3
   },
   "file_extension": ".py",
   "mimetype": "text/x-python",
   "name": "python",
   "nbconvert_exporter": "python",
   "pygments_lexer": "ipython3",
   "version": "3.6.4"
  }
 },
 "nbformat": 4,
 "nbformat_minor": 2
}
