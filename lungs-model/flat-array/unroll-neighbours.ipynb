{
 "cells": [
  {
   "cell_type": "code",
   "execution_count": 1,
   "metadata": {},
   "outputs": [],
   "source": [
    "import numba\n",
    "import numpy as np\n",
    "from time import time\n",
    "import matplotlib.pyplot as plt\n",
    "plt.rcParams['figure.figsize'] = [10, 10] # 10 x 10 inches plot"
   ]
  },
  {
   "cell_type": "code",
   "execution_count": 41,
   "metadata": {},
   "outputs": [
    {
     "data": {
      "image/png": "[encoded data removed]",
      "text/plain": [
       "<matplotlib.figure.Figure at 0x1100f5748>"
      ]
     },
     "metadata": {},
     "output_type": "display_data"
    }
   ],
   "source": [
    "N = 4\n",
    "x = np.arange(N**3).reshape(N, N, N)\n",
    "# x\n",
    "cells = []\n",
    "neighbours = []\n",
    "s = 0\n",
    "for i in range(1, N - 1):\n",
    "    for j in range(1, N - 1):\n",
    "        for k in range(1, N - 1):\n",
    "            cells.append(x[i, j, k])\n",
    "            neighbours.append([\n",
    "                  x[i + 1, j    , k    ],\n",
    "                  x[i - 1, j    , k    ],\n",
    "                  x[i    , j + 1, k    ],\n",
    "                  x[i    , j - 1, k    ],\n",
    "                  x[i    , j    , k + 1],\n",
    "                  x[i    , j    , k - 1]\n",
    "            ])\n",
    "            \n",
    "cells = np.ones_like(np.array(neighbours)) * np.array(cells).reshape(-1,1)\n",
    "# neighbours\n",
    "# neighbours\n",
    "plt.plot(cells, neighbours, 'o')\n",
    "plt.grid()\n",
    "plt.show()"
   ]
  },
  {
   "cell_type": "code",
   "execution_count": 109,
   "metadata": {},
   "outputs": [
    {
     "data": {
      "text/plain": [
       "array([21, 22, 25, 26, 37, 38, 41, 42])"
      ]
     },
     "execution_count": 109,
     "metadata": {},
     "output_type": "execute_result"
    }
   ],
   "source": [
    "cells.T[0]\n",
    "# cells[:10]\n",
    "# neighbours"
   ]
  },
  {
   "cell_type": "code",
   "execution_count": 110,
   "metadata": {},
   "outputs": [
    {
     "data": {
      "text/plain": [
       "array([[[ 0,  1,  2,  3],\n",
       "        [ 4,  5,  6,  7],\n",
       "        [ 8,  9, 10, 11],\n",
       "        [12, 13, 14, 15]],\n",
       "\n",
       "       [[16, 17, 18, 19],\n",
       "        [20, 21, 22, 23],\n",
       "        [24, 25, 26, 27],\n",
       "        [28, 29, 30, 31]],\n",
       "\n",
       "       [[32, 33, 34, 35],\n",
       "        [36, 37, 38, 39],\n",
       "        [40, 41, 42, 43],\n",
       "        [44, 45, 46, 47]],\n",
       "\n",
       "       [[48, 49, 50, 51],\n",
       "        [52, 53, 54, 55],\n",
       "        [56, 57, 58, 59],\n",
       "        [60, 61, 62, 63]]])"
      ]
     },
     "execution_count": 110,
     "metadata": {},
     "output_type": "execute_result"
    }
   ],
   "source": [
    "x"
   ]
  },
  {
   "cell_type": "code",
   "execution_count": 112,
   "metadata": {},
   "outputs": [
    {
     "data": {
      "text/plain": [
       "array([21, 22, 25, 26, 37, 38, 41, 42])"
      ]
     },
     "execution_count": 112,
     "metadata": {},
     "output_type": "execute_result"
    }
   ],
   "source": [
    "x[1:-1, 1:-1, 1:-1].flatten()"
   ]
  },
  {
   "cell_type": "code",
   "execution_count": 111,
   "metadata": {
    "scrolled": true
   },
   "outputs": [
    {
     "data": {
      "text/plain": [
       "[[37, 5, 25, 17, 22, 20],\n",
       " [38, 6, 26, 18, 23, 21],\n",
       " [41, 9, 29, 21, 26, 24],\n",
       " [42, 10, 30, 22, 27, 25],\n",
       " [53, 21, 41, 33, 38, 36],\n",
       " [54, 22, 42, 34, 39, 37],\n",
       " [57, 25, 45, 37, 42, 40],\n",
       " [58, 26, 46, 38, 43, 41]]"
      ]
     },
     "execution_count": 111,
     "metadata": {},
     "output_type": "execute_result"
    }
   ],
   "source": [
    "neighbours"
   ]
  },
  {
   "cell_type": "code",
   "execution_count": 116,
   "metadata": {},
   "outputs": [
    {
     "data": {
      "text/plain": [
       "array([20, 22, 17, 25,  5, 37])"
      ]
     },
     "execution_count": 116,
     "metadata": {},
     "output_type": "execute_result"
    }
   ],
   "source": [
    "flat_x     = np.arange(N**3)\n",
    "flat_cells = x[1:-1, 1:-1, 1:-1].flatten() # one line formula for cells\n",
    "\n",
    "c1 = flat_cells[0]\n",
    "n1 = c1 + [-1, 1, -N, N, -N**2, N**2]\n",
    "n1"
   ]
  },
  {
   "cell_type": "code",
   "execution_count": 118,
   "metadata": {},
   "outputs": [
    {
     "data": {
      "text/plain": [
       "array([20, 22, 17, 25,  5, 37])"
      ]
     },
     "execution_count": 118,
     "metadata": {},
     "output_type": "execute_result"
    }
   ],
   "source": [
    "flat_x[n1]"
   ]
  },
  {
   "cell_type": "markdown",
   "metadata": {},
   "source": [
    "# Notes\n",
    "короче `cells` не сложно получить - это просто `x[1:-1, 1:-1, 1:-1].flatten()`\n",
    "\n",
    "теперь как получить `neighbours(cell)`\n",
    "\n",
    "короче $\\pm 1, \\pm N, \\pm N^2$\n",
    "\n",
    "Только момент нужно проверить в будущем - у меня же там по одной оси не 512 а 460 - там эти формулы будут ли работать? Ну вообще по моему будут.\n",
    "\n",
    "Ну написать тест - типа проверяется тройным циклом и `unrolled` - и ответ должен совпасть."
   ]
  },
  {
   "cell_type": "code",
   "execution_count": 11,
   "metadata": {},
   "outputs": [
    {
     "data": {
      "text/plain": [
       "array([-1,  1, -3,  3, -9,  9])"
      ]
     },
     "execution_count": 11,
     "metadata": {},
     "output_type": "execute_result"
    }
   ],
   "source": [
    "np.array([-1, 1, -3, 3, -9, 9])"
   ]
  },
  {
   "cell_type": "code",
   "execution_count": 15,
   "metadata": {},
   "outputs": [
    {
     "data": {
      "text/plain": [
       "array([[0],\n",
       "       [1],\n",
       "       [2],\n",
       "       [3],\n",
       "       [4],\n",
       "       [5],\n",
       "       [6],\n",
       "       [7],\n",
       "       [8],\n",
       "       [9]])"
      ]
     },
     "execution_count": 15,
     "metadata": {},
     "output_type": "execute_result"
    }
   ],
   "source": [
    "np.arange(10).reshape(10,1)"
   ]
  },
  {
   "cell_type": "code",
   "execution_count": 21,
   "metadata": {},
   "outputs": [
    {
     "data": {
      "text/plain": [
       "array([[-1,  1, -3,  3, -9,  9],\n",
       "       [ 0,  2, -2,  4, -8, 10],\n",
       "       [ 1,  3, -1,  5, -7, 11],\n",
       "       [ 2,  4,  0,  6, -6, 12],\n",
       "       [ 3,  5,  1,  7, -5, 13],\n",
       "       [ 4,  6,  2,  8, -4, 14],\n",
       "       [ 5,  7,  3,  9, -3, 15],\n",
       "       [ 6,  8,  4, 10, -2, 16],\n",
       "       [ 7,  9,  5, 11, -1, 17],\n",
       "       [ 8, 10,  6, 12,  0, 18]])"
      ]
     },
     "execution_count": 21,
     "metadata": {},
     "output_type": "execute_result"
    }
   ],
   "source": [
    "np.array([-1, 1, -3, 3, -9, 9]) + np.arange(10).reshape(-1, 1) # -1 here: length of array "
   ]
  },
  {
   "cell_type": "code",
   "execution_count": 20,
   "metadata": {},
   "outputs": [
    {
     "ename": "ValueError",
     "evalue": "operands could not be broadcast together with shapes (6,) (10,) ",
     "output_type": "error",
     "traceback": [
      "\u001b[0;31m---------------------------------------------------------------------------\u001b[0m",
      "\u001b[0;31mValueError\u001b[0m                                Traceback (most recent call last)",
      "\u001b[0;32m<ipython-input-20-cb3d63a61f54>\u001b[0m in \u001b[0;36m<module>\u001b[0;34m()\u001b[0m\n\u001b[0;32m----> 1\u001b[0;31m \u001b[0mnp\u001b[0m\u001b[0;34m.\u001b[0m\u001b[0marray\u001b[0m\u001b[0;34m(\u001b[0m\u001b[0;34m[\u001b[0m\u001b[0;34m-\u001b[0m\u001b[0;36m1\u001b[0m\u001b[0;34m,\u001b[0m \u001b[0;36m1\u001b[0m\u001b[0;34m,\u001b[0m \u001b[0;34m-\u001b[0m\u001b[0;36m3\u001b[0m\u001b[0;34m,\u001b[0m \u001b[0;36m3\u001b[0m\u001b[0;34m,\u001b[0m \u001b[0;34m-\u001b[0m\u001b[0;36m9\u001b[0m\u001b[0;34m,\u001b[0m \u001b[0;36m9\u001b[0m\u001b[0;34m]\u001b[0m\u001b[0;34m)\u001b[0m\u001b[0;34m.\u001b[0m\u001b[0mT\u001b[0m \u001b[0;34m+\u001b[0m \u001b[0mnp\u001b[0m\u001b[0;34m.\u001b[0m\u001b[0marange\u001b[0m\u001b[0;34m(\u001b[0m\u001b[0;36m10\u001b[0m\u001b[0;34m)\u001b[0m\u001b[0;34m\u001b[0m\u001b[0m\n\u001b[0m",
      "\u001b[0;31mValueError\u001b[0m: operands could not be broadcast together with shapes (6,) (10,) "
     ]
    }
   ],
   "source": [
    "np.array([-1, 1, -3, 3, -9, 9]).T + np.arange(10)"
   ]
  },
  {
   "cell_type": "code",
   "execution_count": 33,
   "metadata": {},
   "outputs": [
    {
     "data": {
      "text/plain": [
       "array([ 0,  6, 12, 18, 24, 30, 36, 42])"
      ]
     },
     "execution_count": 33,
     "metadata": {},
     "output_type": "execute_result"
    }
   ],
   "source": [
    "neighbours_indexes = np.array([-1, 1, -3, 3, -9, 9]) + np.arange(8).reshape(-1, 1) # -1 here: length of array \n",
    "np.sum(neighbours_indexes, axis=1)"
   ]
  },
  {
   "cell_type": "code",
   "execution_count": 37,
   "metadata": {},
   "outputs": [
    {
     "data": {
      "text/plain": [
       "array([[[ 0,  1,  2,  3],\n",
       "        [ 4,  5,  6,  7],\n",
       "        [ 8,  9, 10, 11],\n",
       "        [12, 13, 14, 15]],\n",
       "\n",
       "       [[16, 17, 18, 19],\n",
       "        [20,  0,  6, 23],\n",
       "        [24, 12, 18, 27],\n",
       "        [28, 29, 30, 31]],\n",
       "\n",
       "       [[32, 33, 34, 35],\n",
       "        [36, 24, 30, 39],\n",
       "        [40, 36, 42, 43],\n",
       "        [44, 45, 46, 47]],\n",
       "\n",
       "       [[48, 49, 50, 51],\n",
       "        [52, 53, 54, 55],\n",
       "        [56, 57, 58, 59],\n",
       "        [60, 61, 62, 63]]])"
      ]
     },
     "execution_count": 37,
     "metadata": {},
     "output_type": "execute_result"
    }
   ],
   "source": [
    "N = 4\n",
    "x = np.arange(N**3).reshape(N, N, N)\n",
    "flat_x     = np.arange(N**3)\n",
    "flat_cells = x[1:-1, 1:-1, 1:-1].flatten() # one line formula for cells\n",
    "x[1:-1, 1:-1, 1:-1] = np.sum(neighbours_indexes, axis=1).reshape(N - 2, N - 2, N - 2)\n",
    "x"
   ]
  },
  {
   "cell_type": "markdown",
   "metadata": {},
   "source": [
    "---\n",
    "# Neighbours with distance 2"
   ]
  },
  {
   "cell_type": "code",
   "execution_count": 54,
   "metadata": {},
   "outputs": [
    {
     "name": "stdout",
     "output_type": "stream",
     "text": [
      "[[158  14  98  74  88  84]\n",
      " [159  15  99  75  89  85]\n",
      " [164  20 104  80  94  90]\n",
      " [165  21 105  81  95  91]\n",
      " [194  50 134 110 124 120]\n",
      " [195  51 135 111 125 121]\n",
      " [200  56 140 116 130 126]\n",
      " [201  57 141 117 131 127]]\n"
     ]
    },
    {
     "data": {
      "image/png": "[encoded data removed]",
      "text/plain": [
       "<matplotlib.figure.Figure at 0x11095fc88>"
      ]
     },
     "metadata": {},
     "output_type": "display_data"
    }
   ],
   "source": [
    "N = 6\n",
    "x = np.arange(N**3).reshape(N, N, N)\n",
    "# x\n",
    "cells = []\n",
    "neighbours = []\n",
    "s = 0\n",
    "for i in range(2, N - 2):\n",
    "    for j in range(2, N - 2):\n",
    "        for k in range(2, N - 2):\n",
    "            cells.append(x[i, j, k])\n",
    "            neighbours.append([\n",
    "                  x[i + 2, j    , k    ],\n",
    "                  x[i - 2, j    , k    ],\n",
    "                  x[i    , j + 2, k    ],\n",
    "                  x[i    , j - 2, k    ],\n",
    "                  x[i    , j    , k + 2],\n",
    "                  x[i    , j    , k - 2]\n",
    "            ])\n",
    "            \n",
    "cells\n",
    "cells = np.ones_like(np.array(neighbours)) * np.array(cells).reshape(-1,1)\n",
    "print(np.array(neighbours))\n",
    "plt.plot(cells, neighbours, 'o')\n",
    "plt.grid()\n",
    "plt.show()"
   ]
  },
  {
   "cell_type": "code",
   "execution_count": 56,
   "metadata": {},
   "outputs": [
    {
     "name": "stdout",
     "output_type": "stream",
     "text": [
      "[[[  0   1   2   3   4   5]\n",
      "  [  6   7   8   9  10  11]\n",
      "  [ 12  13  14  15  16  17]\n",
      "  [ 18  19  20  21  22  23]\n",
      "  [ 24  25  26  27  28  29]\n",
      "  [ 30  31  32  33  34  35]]\n",
      "\n",
      " [[ 36  37  38  39  40  41]\n",
      "  [ 42  43  44  45  46  47]\n",
      "  [ 48  49  50  51  52  53]\n",
      "  [ 54  55  56  57  58  59]\n",
      "  [ 60  61  62  63  64  65]\n",
      "  [ 66  67  68  69  70  71]]\n",
      "\n",
      " [[ 72  73  74  75  76  77]\n",
      "  [ 78  79  80  81  82  83]\n",
      "  [ 84  85  86  87  88  89]\n",
      "  [ 90  91  92  93  94  95]\n",
      "  [ 96  97  98  99 100 101]\n",
      "  [102 103 104 105 106 107]]\n",
      "\n",
      " [[108 109 110 111 112 113]\n",
      "  [114 115 116 117 118 119]\n",
      "  [120 121 122 123 124 125]\n",
      "  [126 127 128 129 130 131]\n",
      "  [132 133 134 135 136 137]\n",
      "  [138 139 140 141 142 143]]\n",
      "\n",
      " [[144 145 146 147 148 149]\n",
      "  [150 151 152 153 154 155]\n",
      "  [156 157 158 159 160 161]\n",
      "  [162 163 164 165 166 167]\n",
      "  [168 169 170 171 172 173]\n",
      "  [174 175 176 177 178 179]]\n",
      "\n",
      " [[180 181 182 183 184 185]\n",
      "  [186 187 188 189 190 191]\n",
      "  [192 193 194 195 196 197]\n",
      "  [198 199 200 201 202 203]\n",
      "  [204 205 206 207 208 209]\n",
      "  [210 211 212 213 214 215]]]\n"
     ]
    }
   ],
   "source": [
    "print(x)"
   ]
  },
  {
   "cell_type": "code",
   "execution_count": 82,
   "metadata": {},
   "outputs": [
    {
     "name": "stdout",
     "output_type": "stream",
     "text": [
      "[[ 86]\n",
      " [ 87]\n",
      " [ 92]\n",
      " [ 93]\n",
      " [122]\n",
      " [123]\n",
      " [128]\n",
      " [129]]\n",
      "[[ 84  88  74  98  14 158]\n",
      " [ 85  89  75  99  15 159]\n",
      " [ 90  94  80 104  20 164]\n",
      " [ 91  95  81 105  21 165]\n",
      " [120 124 110 134  50 194]\n",
      " [121 125 111 135  51 195]\n",
      " [126 130 116 140  56 200]\n",
      " [127 131 117 141  57 201]]\n"
     ]
    }
   ],
   "source": [
    "cell_indeces_flat = np.arange(N**3).reshape(N, N, N)[2:-2, 2:-2, 2:-2].flatten().reshape(-1, 1)\n",
    "neighbours2 = cell_indeces_flat +np.array([-1, 1, -N, N, -N**2, N**2]) * 2\n",
    "\n",
    "print(cell_indeces_flat)\n",
    "print(neighbours2)"
   ]
  },
  {
   "cell_type": "code",
   "execution_count": 83,
   "metadata": {},
   "outputs": [
    {
     "data": {
      "text/plain": [
       "array([[ 0,  1,  2,  3,  4],\n",
       "       [ 5,  6,  7,  8,  9],\n",
       "       [10, 11, 12, 13, 14],\n",
       "       [15, 16, 17, 18, 19],\n",
       "       [20, 21, 22, 23, 24]])"
      ]
     },
     "execution_count": 83,
     "metadata": {},
     "output_type": "execute_result"
    }
   ],
   "source": [
    "np.arange(25).reshape(5,5)"
   ]
  },
  {
   "cell_type": "code",
   "execution_count": 90,
   "metadata": {},
   "outputs": [
    {
     "data": {
      "text/plain": [
       "array([[[ 1.,  2.,  3.],\n",
       "        [ 4.,  5.,  6.],\n",
       "        [ 7.,  8.,  9.]],\n",
       "\n",
       "       [[10., 11., 12.],\n",
       "        [13., 14., 15.],\n",
       "        [16., 17., 18.]],\n",
       "\n",
       "       [[19., 20., 21.],\n",
       "        [22., 23., 24.],\n",
       "        [25., 26., 27.]]])"
      ]
     },
     "execution_count": 90,
     "metadata": {},
     "output_type": "execute_result"
    }
   ],
   "source": [
    "np.arange(27).reshape(3,3,3) + np.ones(3)"
   ]
  },
  {
   "cell_type": "code",
   "execution_count": 93,
   "metadata": {},
   "outputs": [],
   "source": []
  },
  {
   "cell_type": "code",
   "execution_count": 94,
   "metadata": {},
   "outputs": [
    {
     "data": {
      "text/plain": [
       "array([[[7.02206534e-01, 8.38523671e-01, 7.17996205e-01, 6.02193909e-01],\n",
       "        [2.56850110e-01, 1.62417400e-01, 4.80025037e-01, 1.50804050e-01],\n",
       "        [4.19287649e-01, 6.21954291e-01, 2.80151914e-01, 7.93355879e-01],\n",
       "        [4.81374426e-01, 8.00723078e-01, 6.89373376e-01, 2.04089065e-01]],\n",
       "\n",
       "       [[3.65540662e-01, 4.39668053e-02, 5.82128663e-01, 3.33243417e-01],\n",
       "        [3.22320616e-01, 9.79394877e-01, 6.44226407e-01, 7.60310134e-01],\n",
       "        [6.46619460e-01, 3.10820298e-01, 1.18296482e-01, 8.95047892e-01],\n",
       "        [4.68020761e-01, 4.87711635e-01, 6.12684576e-01, 9.64580006e-01]],\n",
       "\n",
       "       [[1.59028263e-01, 5.89533236e-01, 6.09116549e-01, 5.77270247e-01],\n",
       "        [7.27740201e-02, 5.11710626e-01, 3.45461338e-01, 3.19359605e-01],\n",
       "        [3.61627438e-01, 6.60308753e-01, 8.65847004e-04, 7.42705811e-03],\n",
       "        [9.85126833e-01, 6.26061798e-02, 6.71309824e-02, 3.71823924e-01]],\n",
       "\n",
       "       [[6.00048174e-01, 1.61157328e-01, 1.86823347e-01, 3.24627194e-01],\n",
       "        [7.12486983e-02, 9.61886513e-01, 4.59879043e-01, 2.81317720e-01],\n",
       "        [3.27996283e-01, 2.04877773e-02, 7.57517495e-01, 1.15722267e-02],\n",
       "        [3.50657300e-01, 2.71265328e-01, 4.59680216e-01, 4.37620826e-01]]])"
      ]
     },
     "execution_count": 94,
     "metadata": {},
     "output_type": "execute_result"
    }
   ],
   "source": [
    "x"
   ]
  },
  {
   "cell_type": "code",
   "execution_count": 137,
   "metadata": {},
   "outputs": [],
   "source": [
    "N = 4\n",
    "S = N\n",
    "x = np.random.random((N, N, N))\n",
    "P_p = np.random.random((N, N, N))\n",
    "K2 = np.random.random((N, N, N))\n"
   ]
  },
  {
   "cell_type": "code",
   "execution_count": 181,
   "metadata": {},
   "outputs": [
    {
     "name": "stdout",
     "output_type": "stream",
     "text": [
      "[[[0.         0.         0.         0.        ]\n",
      "  [0.         0.         0.         0.        ]\n",
      "  [0.         0.         0.         0.        ]\n",
      "  [0.         0.         0.         0.        ]]\n",
      "\n",
      " [[0.         0.         0.         0.        ]\n",
      "  [0.         2.16017478 1.4375676  0.        ]\n",
      "  [0.         0.59772302 3.057222   0.        ]\n",
      "  [0.         0.         0.         0.        ]]\n",
      "\n",
      " [[0.         0.         0.         0.        ]\n",
      "  [0.         2.41067292 1.16788115 0.        ]\n",
      "  [0.         1.68609793 1.66444566 0.        ]\n",
      "  [0.         0.         0.         0.        ]]\n",
      "\n",
      " [[0.         0.         0.         0.        ]\n",
      "  [0.         0.         0.         0.        ]\n",
      "  [0.         0.         0.         0.        ]\n",
      "  [0.         0.         0.         0.        ]]]\n"
     ]
    }
   ],
   "source": [
    "Z = np.zeros_like(x)\n",
    "for i in range(1, S - 1):\n",
    "    for j in range(1, N - 1):\n",
    "        for k in range(1, N - 1):\n",
    "            s1 = (P_p[i + 1, j    , k    ] + \\\n",
    "                  P_p[i - 1, j    , k    ] + \\\n",
    "                  P_p[i    , j + 1, k    ] + \\\n",
    "                  P_p[i    , j - 1, k    ] + \\\n",
    "                  P_p[i    , j    , k + 1] + \\\n",
    "                  P_p[i    , j    , k - 1]\n",
    "            )\n",
    "            Z[i, j, k] += 4/3 * K2[i, j, k] * s1\n",
    "print(Z)"
   ]
  },
  {
   "cell_type": "code",
   "execution_count": 193,
   "metadata": {},
   "outputs": [
    {
     "name": "stdout",
     "output_type": "stream",
     "text": [
      "[[[0.         0.         0.         0.        ]\n",
      "  [0.         0.         0.         0.        ]\n",
      "  [0.         0.         0.         0.        ]\n",
      "  [0.         0.         0.         0.        ]]\n",
      "\n",
      " [[0.         0.         0.         0.        ]\n",
      "  [0.         2.16017478 1.4375676  0.        ]\n",
      "  [0.         0.59772302 3.057222   0.        ]\n",
      "  [0.         0.         0.         0.        ]]\n",
      "\n",
      " [[0.         0.         0.         0.        ]\n",
      "  [0.         2.41067292 1.16788115 0.        ]\n",
      "  [0.         1.68609793 1.66444566 0.        ]\n",
      "  [0.         0.         0.         0.        ]]\n",
      "\n",
      " [[0.         0.         0.         0.        ]\n",
      "  [0.         0.         0.         0.        ]\n",
      "  [0.         0.         0.         0.        ]\n",
      "  [0.         0.         0.         0.        ]]]\n"
     ]
    }
   ],
   "source": [
    "P = np.zeros_like(x)\n",
    "# P = np.arange(64).reshape(4,4,4)\n",
    "# print(P)\n",
    "# print(P_p)\n",
    "\n",
    "\n",
    "\n",
    "cell_indeces_flat = np.arange(N**3).reshape(N, N, N)[1:-1, 1:-1, 1:-1].flatten().reshape(-1, 1) # vertical vector\n",
    "# print(cell_indeces_flat)\n",
    "neighbours1_indeces_flat = cell_indeces_flat + np.array([-1, 1, -N, N, -N**2, N**2])      # i±1 j±1 k±1 \n",
    "# print(neighbours1_indeces_flat)\n",
    "\n",
    "\n",
    "neighbours_cell_1 = P.flatten()[neighbours1_indeces_flat[0]]\n",
    "neighbours_cell_all = P_p.flatten()[neighbours1_indeces_flat] # each row contains 6 neighbors of cell \n",
    "# print(neighbours_cell_all)\n",
    "neighbours_cell_all_sum = np.sum(neighbours_cell_all, axis=1)\n",
    "\n",
    "\n",
    "# print(neighbours_cell_all_sum)\n",
    "\n",
    "# neighbours1_indeces_flat\n",
    "# P.flatten()[neighbours1_indeces_flat[0]]\n",
    "# P[1:-1, 1:-1, 1:-1] += 4 /  3 * K2[1:-1, 1:-1, 1:-1] * np.sum(P.flatten()[neighbours1_indeces_flat], axis=1).reshape(N - 4, N - 4, N - 4)\n",
    "# P.flatten()[cell_indeces_flat] += 4/3 * K2[cell_indeces_flat] * neighbours_cell_all_sum\n",
    "# print(P.flatten()[cell_indeces_flat.reshape(-1)])\n",
    "\n",
    "# P = P.flatten()[cell_indeces_flat.reshape(-1)]\n",
    "# P += neighbours_cell_all_sum\n",
    "# P.flatten()[cell_indeces_flat.reshape(-1)] + neighbours_cell_all_sum\n",
    "# P += (P.flatten()[cell_indeces_flat.reshape(-1)] + neighbours_cell_all_sum).reshape(N-2, N-2, N-2)\n",
    "P[1:-1, 1:-1, 1:-1] += 4/3 * K2[1:-1, 1:-1, 1:-1] * (P.flatten()[cell_indeces_flat.reshape(-1)] + neighbours_cell_all_sum).reshape(N-2, N-2, N-2)\n",
    "print(P)"
   ]
  },
  {
   "cell_type": "code",
   "execution_count": 191,
   "metadata": {},
   "outputs": [
    {
     "name": "stdout",
     "output_type": "stream",
     "text": [
      "2.1601747793671686\t0.597723021540029\n",
      "2.160174779367169\t0.5977230215400291\n"
     ]
    }
   ],
   "source": [
    "# np.equal(Z, P)\n",
    "print(Z[1,1,1], Z[1,2,1], sep='\\t')\n",
    "print(P[1,1,1], P[1,2,1], sep='\\t')"
   ]
  },
  {
   "cell_type": "code",
   "execution_count": 148,
   "metadata": {},
   "outputs": [
    {
     "data": {
      "text/plain": [
       "array([21, 22, 25, 26, 37, 38, 41, 42])"
      ]
     },
     "execution_count": 148,
     "metadata": {},
     "output_type": "execute_result"
    }
   ],
   "source": [
    "cell_indeces_flat.reshape(-1)"
   ]
  },
  {
   "cell_type": "code",
   "execution_count": 161,
   "metadata": {},
   "outputs": [
    {
     "data": {
      "text/plain": [
       "array([[[0., 0., 0., 0.],\n",
       "        [0., 0., 0., 0.],\n",
       "        [0., 0., 0., 0.],\n",
       "        [0., 0., 0., 0.]],\n",
       "\n",
       "       [[0., 0., 0., 0.],\n",
       "        [0., 0., 0., 0.],\n",
       "        [0., 0., 0., 0.],\n",
       "        [0., 0., 0., 0.]],\n",
       "\n",
       "       [[0., 0., 0., 0.],\n",
       "        [0., 0., 0., 0.],\n",
       "        [0., 0., 0., 0.],\n",
       "        [0., 0., 0., 0.]],\n",
       "\n",
       "       [[0., 0., 0., 0.],\n",
       "        [0., 0., 0., 0.],\n",
       "        [0., 0., 0., 0.],\n",
       "        [0., 0., 0., 0.]]])"
      ]
     },
     "execution_count": 161,
     "metadata": {},
     "output_type": "execute_result"
    }
   ],
   "source": [
    "f = np.zeros((4,4,4))\n",
    "f"
   ]
  },
  {
   "cell_type": "code",
   "execution_count": 168,
   "metadata": {},
   "outputs": [],
   "source": [
    "f[1:-1, 1:-1, 1:-1,] += np.ones((2,2))"
   ]
  },
  {
   "cell_type": "code",
   "execution_count": 169,
   "metadata": {},
   "outputs": [
    {
     "data": {
      "text/plain": [
       "array([[[0., 0., 0., 0.],\n",
       "        [0., 0., 0., 0.],\n",
       "        [0., 0., 0., 0.],\n",
       "        [0., 0., 0., 0.]],\n",
       "\n",
       "       [[0., 0., 0., 0.],\n",
       "        [0., 4., 4., 0.],\n",
       "        [0., 4., 4., 0.],\n",
       "        [0., 0., 0., 0.]],\n",
       "\n",
       "       [[0., 0., 0., 0.],\n",
       "        [0., 4., 4., 0.],\n",
       "        [0., 4., 4., 0.],\n",
       "        [0., 0., 0., 0.]],\n",
       "\n",
       "       [[0., 0., 0., 0.],\n",
       "        [0., 0., 0., 0.],\n",
       "        [0., 0., 0., 0.],\n",
       "        [0., 0., 0., 0.]]])"
      ]
     },
     "execution_count": 169,
     "metadata": {},
     "output_type": "execute_result"
    }
   ],
   "source": [
    "f"
   ]
  },
  {
   "cell_type": "code",
   "execution_count": null,
   "metadata": {},
   "outputs": [],
   "source": []
  }
 ],
 "metadata": {
  "kernelspec": {
   "display_name": "Python 3",
   "language": "python",
   "name": "python3"
  },
  "language_info": {
   "codemirror_mode": {
    "name": "ipython",
    "version": 3
   },
   "file_extension": ".py",
   "mimetype": "text/x-python",
   "name": "python",
   "nbconvert_exporter": "python",
   "pygments_lexer": "ipython3",
   "version": "3.6.4"
  }
 },
 "nbformat": 4,
 "nbformat_minor": 2
}
