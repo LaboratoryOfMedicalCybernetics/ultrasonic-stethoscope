{
 "cells": [
  {
   "cell_type": "code",
   "execution_count": 1,
   "metadata": {},
   "outputs": [],
   "source": [
    "import numpy as np\n",
    "import matplotlib.pyplot as plt\n",
    "plt.rcParams['figure.figsize'] = [10, 10] # 10 x 10 inches plot"
   ]
  },
  {
   "cell_type": "code",
   "execution_count": 12,
   "metadata": {},
   "outputs": [],
   "source": [
    "N = 6"
   ]
  },
  {
   "cell_type": "code",
   "execution_count": 13,
   "metadata": {},
   "outputs": [
    {
     "data": {
      "text/plain": [
       "array([[ 86],\n",
       "       [ 87],\n",
       "       [ 92],\n",
       "       [ 93],\n",
       "       [122],\n",
       "       [123],\n",
       "       [128],\n",
       "       [129]])"
      ]
     },
     "execution_count": 13,
     "metadata": {},
     "output_type": "execute_result"
    }
   ],
   "source": [
    "cell_indeces_flat = np.arange(N**3).reshape(N, N, N)[2:-2, 2:-2, 2:-2].flatten().reshape(-1, 1) # vertical vector\n",
    "cell_indeces_flat"
   ]
  },
  {
   "cell_type": "code",
   "execution_count": 14,
   "metadata": {},
   "outputs": [
    {
     "data": {
      "text/plain": [
       "array([[ 85,  87,  80,  92,  50, 122],\n",
       "       [ 86,  88,  81,  93,  51, 123],\n",
       "       [ 91,  93,  86,  98,  56, 128],\n",
       "       [ 92,  94,  87,  99,  57, 129],\n",
       "       [121, 123, 116, 128,  86, 158],\n",
       "       [122, 124, 117, 129,  87, 159],\n",
       "       [127, 129, 122, 134,  92, 164],\n",
       "       [128, 130, 123, 135,  93, 165]])"
      ]
     },
     "execution_count": 14,
     "metadata": {},
     "output_type": "execute_result"
    }
   ],
   "source": [
    "neighbours1_indeces_flat = cell_indeces_flat + np.array([-1, 1, -N, N, -N**2, N**2])      # i±1 j±1 k±1 \n",
    "neighbours1_indeces_flat"
   ]
  },
  {
   "cell_type": "code",
   "execution_count": 5,
   "metadata": {},
   "outputs": [
    {
     "data": {
      "text/plain": [
       "array([ -1,   1,  -6,   6, -36,  36])"
      ]
     },
     "execution_count": 5,
     "metadata": {},
     "output_type": "execute_result"
    }
   ],
   "source": [
    "np.array([-1, 1, -N, N, -N**2, N**2])"
   ]
  },
  {
   "cell_type": "code",
   "execution_count": 19,
   "metadata": {},
   "outputs": [
    {
     "data": {
      "text/plain": [
       "array([ 36, -36,  72, -72])"
      ]
     },
     "execution_count": 19,
     "metadata": {},
     "output_type": "execute_result"
    }
   ],
   "source": [
    "np.array([N**2, -N**2, 2*N**2, -2*N**2])"
   ]
  },
  {
   "cell_type": "code",
   "execution_count": 23,
   "metadata": {},
   "outputs": [
    {
     "data": {
      "text/plain": [
       "array([[122,  50, 158,  14],\n",
       "       [123,  51, 159,  15],\n",
       "       [128,  56, 164,  20],\n",
       "       [129,  57, 165,  21],\n",
       "       [158,  86, 194,  50],\n",
       "       [159,  87, 195,  51],\n",
       "       [164,  92, 200,  56],\n",
       "       [165,  93, 201,  57]])"
      ]
     },
     "execution_count": 23,
     "metadata": {},
     "output_type": "execute_result"
    }
   ],
   "source": [
    "s3_V_indexes = cell_indeces_flat + np.array([N**2, -N**2, 2*N**2, -2*N**2])\n",
    "s3_V_indexes"
   ]
  },
  {
   "cell_type": "code",
   "execution_count": 26,
   "metadata": {},
   "outputs": [
    {
     "data": {
      "text/plain": [
       "array([[[0.59356572, 0.72416256, 0.09762674, 0.02733639, 0.83802581,\n",
       "         0.42676719],\n",
       "        [0.60647942, 0.16292088, 0.97095703, 0.82422888, 0.77004738,\n",
       "         0.76318634],\n",
       "        [0.4094252 , 0.10985435, 0.79589324, 0.16618441, 0.90508724,\n",
       "         0.05137088],\n",
       "        [0.4982261 , 0.23037493, 0.12585219, 0.85255366, 0.23202152,\n",
       "         0.89678518],\n",
       "        [0.80058006, 0.56657213, 0.51881399, 0.45371228, 0.48649419,\n",
       "         0.30609624],\n",
       "        [0.6883519 , 0.69747325, 0.17857973, 0.0720438 , 0.79728756,\n",
       "         0.88906821]],\n",
       "\n",
       "       [[0.14113814, 0.74221747, 0.20730856, 0.80990448, 0.18030733,\n",
       "         0.6734741 ],\n",
       "        [0.82892551, 0.0554049 , 0.33057862, 0.17119353, 0.14925739,\n",
       "         0.97557984],\n",
       "        [0.07727977, 0.97938951, 0.15911434, 0.35382168, 0.78762482,\n",
       "         0.42360138],\n",
       "        [0.25271324, 0.76879967, 0.86756623, 0.66632052, 0.23632649,\n",
       "         0.10615254],\n",
       "        [0.42007578, 0.10805111, 0.61092848, 0.49022012, 0.72783495,\n",
       "         0.61446716],\n",
       "        [0.17728993, 0.10005833, 0.93126748, 0.73001645, 0.55989471,\n",
       "         0.85683837]],\n",
       "\n",
       "       [[0.72779719, 0.99677105, 0.37531738, 0.85566756, 0.87339858,\n",
       "         0.38841317],\n",
       "        [0.99334049, 0.3133123 , 0.12127897, 0.83772452, 0.63456324,\n",
       "         0.96492745],\n",
       "        [0.62301503, 0.81391049, 0.27310107, 0.14114341, 0.0945735 ,\n",
       "         0.92266872],\n",
       "        [0.3621083 , 0.20306119, 0.14015997, 0.77424308, 0.33691172,\n",
       "         0.92807026],\n",
       "        [0.62628465, 0.83066993, 0.97285878, 0.1319331 , 0.70823899,\n",
       "         0.793281  ],\n",
       "        [0.71286105, 0.616069  , 0.47932784, 0.81011542, 0.90696823,\n",
       "         0.42319355]],\n",
       "\n",
       "       [[0.86437321, 0.31933119, 0.04232153, 0.63073147, 0.792843  ,\n",
       "         0.34150157],\n",
       "        [0.88879342, 0.56106524, 0.59151607, 0.07523937, 0.6656537 ,\n",
       "         0.0318727 ],\n",
       "        [0.70736822, 0.18532697, 0.73567599, 0.23794081, 0.77749113,\n",
       "         0.53085271],\n",
       "        [0.41792572, 0.53061393, 0.62369011, 0.04825836, 0.13387119,\n",
       "         0.16053958],\n",
       "        [0.14067621, 0.37075625, 0.35620042, 0.13471019, 0.76525855,\n",
       "         0.91693906],\n",
       "        [0.54481194, 0.94032536, 0.2957657 , 0.96983786, 0.8096737 ,\n",
       "         0.11591946]],\n",
       "\n",
       "       [[0.89608352, 0.63987508, 0.93134481, 0.13014081, 0.61045359,\n",
       "         0.83102852],\n",
       "        [0.84872316, 0.16301199, 0.8857785 , 0.3332288 , 0.60915793,\n",
       "         0.76715918],\n",
       "        [0.07200523, 0.03890562, 0.68562166, 0.31603368, 0.07314693,\n",
       "         0.45407761],\n",
       "        [0.20524435, 0.71884026, 0.13552088, 0.90469054, 0.15727498,\n",
       "         0.23316768],\n",
       "        [0.85697415, 0.76988537, 0.85759134, 0.36328955, 0.49879344,\n",
       "         0.37984257],\n",
       "        [0.50827538, 0.95531422, 0.85792738, 0.29817126, 0.61501554,\n",
       "         0.77464869]],\n",
       "\n",
       "       [[0.08436145, 0.21719166, 0.9894671 , 0.46773076, 0.25984136,\n",
       "         0.46165638],\n",
       "        [0.29946123, 0.66048859, 0.16133155, 0.10860777, 0.2171389 ,\n",
       "         0.5690294 ],\n",
       "        [0.13804744, 0.35892262, 0.72676301, 0.75908362, 0.40735363,\n",
       "         0.86169325],\n",
       "        [0.81329028, 0.32841949, 0.74549202, 0.39474612, 0.67239182,\n",
       "         0.08263978],\n",
       "        [0.73232689, 0.33606258, 0.25762296, 0.32236064, 0.77392657,\n",
       "         0.39163415],\n",
       "        [0.69823063, 0.13228999, 0.93108608, 0.30908945, 0.30600921,\n",
       "         0.04924272]]])"
      ]
     },
     "execution_count": 26,
     "metadata": {},
     "output_type": "execute_result"
    }
   ],
   "source": [
    "x = np.random.random((N,N,N))\n",
    "x"
   ]
  },
  {
   "cell_type": "code",
   "execution_count": 25,
   "metadata": {},
   "outputs": [
    {
     "data": {
      "text/plain": [
       "array([[0.79341099, 0.40238015, 0.76371803, 0.69430972],\n",
       "       [0.92979437, 0.52199414, 0.65232656, 0.99940909],\n",
       "       [0.92575549, 0.42899403, 0.17809186, 0.91676949],\n",
       "       [0.25324881, 0.49414723, 0.34328463, 0.31810579],\n",
       "       [0.76371803, 0.03887534, 0.83765483, 0.40238015],\n",
       "       [0.65232656, 0.15857643, 0.43931136, 0.52199414],\n",
       "       [0.17809186, 0.66510388, 0.75549502, 0.42899403],\n",
       "       [0.34328463, 0.40004726, 0.1478361 , 0.49414723]])"
      ]
     },
     "execution_count": 25,
     "metadata": {},
     "output_type": "execute_result"
    }
   ],
   "source": [
    "x.flatten()[s3_V_indexes]"
   ]
  },
  {
   "cell_type": "code",
   "execution_count": 10,
   "metadata": {},
   "outputs": [
    {
     "name": "stdout",
     "output_type": "stream",
     "text": [
      "9501"
     ]
    },
    {
     "data": {
      "image/png": "[encoded data removed]",
      "text/plain": [
       "<matplotlib.figure.Figure at 0x10480b3c8>"
      ]
     },
     "metadata": {},
     "output_type": "display_data"
    }
   ],
   "source": [
    "from time import time\n",
    "\n",
    "t_axis0 = []\n",
    "t_axis1 = []\n",
    "\n",
    "N = range(1, 10000, 500)\n",
    "for n in N:\n",
    "    x = np.random.random((n, n))\n",
    "    t0 = time()\n",
    "    s = np.sum(x, axis=0)\n",
    "    t_axis0.append(time() - t0)\n",
    "    \n",
    "    t0 = time()\n",
    "    s = np.sum(x, axis=1)\n",
    "    t_axis1.append(time() - t0)\n",
    "    \n",
    "    print(f'\\r{n}', end='')\n",
    "\n",
    "plt.plot(N, t_axis0, 'b')\n",
    "plt.plot(N, t_axis1, 'r')\n",
    "plt.show()"
   ]
  },
  {
   "cell_type": "code",
   "execution_count": null,
   "metadata": {},
   "outputs": [],
   "source": []
  }
 ],
 "metadata": {
  "kernelspec": {
   "display_name": "Python 3",
   "language": "python",
   "name": "python3"
  },
  "language_info": {
   "codemirror_mode": {
    "name": "ipython",
    "version": 3
   },
   "file_extension": ".py",
   "mimetype": "text/x-python",
   "name": "python",
   "nbconvert_exporter": "python",
   "pygments_lexer": "ipython3",
   "version": "3.6.4"
  }
 },
 "nbformat": 4,
 "nbformat_minor": 2
}
