{
 "cells": [
  {
   "cell_type": "code",
   "execution_count": 1,
   "metadata": {},
   "outputs": [],
   "source": [
    "# This code compares triple-for loop and flat von neimann neighbours implementations\n",
    "# and tests if this 2 methods gives the same result\n",
    "# also test that 460 instead of 512 on 0-axis\n",
    "\n",
    "# firstly i remove this condition:\n",
    "            # if ro[i, j, k] < 0.1 and i != A and j != B and k != C: # refl􏰂ecting condition | use numpy masking\n",
    "                # P[i, j, k] = 0\n",
    "\n",
    "import numpy as np\n",
    "from time import time\n",
    "import matplotlib.pyplot as plt\n",
    "plt.rcParams['figure.figsize'] = [10, 10] # 10 x 10 inches plot"
   ]
  },
  {
   "cell_type": "code",
   "execution_count": 20,
   "metadata": {},
   "outputs": [],
   "source": [
    "N = 8\n",
    "S = 6 # number of slices / CT-images / scans\n",
    "\n",
    "r = np.random.random((S, N, N)) * 200\n",
    "# r = np.load('r.npy')\n",
    "ro  = 1e-5 + 1.24e-3*r - 2.83e-7*r*r + 2.79e-11*r*r*r\n",
    "c = (ro + 0.112) * 1.38e-6\n",
    "\n",
    "# тут не факт что все 1\n",
    "l = 1 # dt\n",
    "h = 1 # dx = dy = dz\n",
    "\n",
    "K = l / h * c\n",
    "K2 = K**2\n",
    "K_2_by_3 = K**2 / 3\n",
    "# K2_3_ro = K2 / 3 / ro\n",
    "\n",
    "\n",
    "# initial conditions\n",
    "P_pp = np.zeros((S, N, N)) # previous previous t - 2\n",
    "P_p  = np.zeros((S, N, N)) # previous          t - 1\n",
    "P    = np.zeros((S, N, N)) # current           t\n",
    "# P_pp = np.random.random((S, N, N)) # previous previous t - 2\n",
    "# P_p  = np.random.random((S, N, N)) # previous          t - 1\n",
    "# P    = np.random.random((S, N, N)) # current           t\n",
    "\n",
    "# P_pp = np.arange(N**3).reshape(N, N, N) * 10.\n",
    "# P_p = np.arange(N**3).reshape(N, N, N) * 12.\n",
    "# P_pp = np.load('P_pp.npy')\n",
    "# P_p = np.load('P_p.npy')\n",
    "# P    = np.zeros((S, N, N), dtype=np.float64) # current           t\n",
    "\n",
    "# np.save('P_pp.npy', P_pp)\n",
    "# np.save('P_p.npy', P_p)\n",
    "# np.save('r.npy', r)\n",
    "# print(r.mean(), ro > 0.1)"
   ]
  },
  {
   "cell_type": "code",
   "execution_count": 31,
   "metadata": {},
   "outputs": [],
   "source": [
    "def P_step(P_pp, P_p):\n",
    "    '''\n",
    "    mb work with flat and then reshape in return\n",
    "    norm by now, mb add some more optimisations in future, also cuda\n",
    "    '''\n",
    "\n",
    "    S = P_p.shape[0]\n",
    "    N = P_p.shape[1]\n",
    "\n",
    "    P[2:-2, 2:-2, 2:-2] = 2 * P_p[2:-2, 2:-2, 2:-2] - P_pp[2:-2, 2:-2, 2:-2]\n",
    "    Z = np.zeros_like(P_p)\n",
    "    Z[2:-2, 2:-2, 2:-2] = 22.5 * P_p[2:-2, 2:-2, 2:-2]\n",
    "    \n",
    "\n",
    "    cell_indeces_flat = np.arange(S * N * N).reshape(S, N, N)[2:-2, 2:-2, 2:-2].flatten().reshape(-1, 1) # vertical vector\n",
    "\n",
    "    s1_indexes_flat = cell_indeces_flat + np.array([-1, 1, -N, N, -N**2, N**2])      # i±1 j±1 k±1 \n",
    "    s2_indexes_flat = cell_indeces_flat + np.array([-1, 1, -N, N, -N**2, N**2]) * 2  # i±2 j±2 k±2 \n",
    "    s1_values = P_p.flatten()[s1_indexes_flat] # each row contains 6 neighbors of cell \n",
    "    s2_values = P_p.flatten()[s2_indexes_flat] # each row contains 6 neighbors of cell \n",
    "    s1 = np.sum(s1_values, axis=1) # sum by axis=1 is faster for default order\n",
    "    s2 = np.sum(s2_values, axis=1)\n",
    "\n",
    "    Z[2:-2, 2:-2, 2:-2] -=   4 * s1.reshape(S-4, N-4, N-4)\n",
    "    Z[2:-2, 2:-2, 2:-2] += 1/4 * s2.reshape(S-4, N-4, N-4)\n",
    "\n",
    "\n",
    "    m1 = np.array([1, -1, -1/8, -1/8])\n",
    "    m2 = np.array([1, -1])\n",
    "\n",
    "    s3_V_indexes = cell_indeces_flat + np.array([N**2, -N**2, 2*N**2, -2*N**2])\n",
    "    s3_V_values = P_p.flatten()[s3_V_indexes] * m1 # po idee mozhno za skobki kak to vinesti m1 i m2\n",
    "    s3_V_sum = np.sum(s3_V_values, axis=1)\n",
    "    s3_N_indexes = cell_indeces_flat + np.array([N**2, -N**2])\n",
    "    s3_N_values = ro.flatten()[s3_N_indexes] * m2\n",
    "    s3_N_sum = np.sum(s3_N_values, axis=1)\n",
    "    s3 = (s3_V_sum / s3_N_sum).reshape(S-4, N-4, N-4)\n",
    "\n",
    "    s4_V_indexes = cell_indeces_flat + np.array([N, -N, 2*N, -2*N])\n",
    "    s4_V_values = P_p.flatten()[s4_V_indexes] * m1\n",
    "    s4_V_sum = np.sum(s4_V_values, axis=1)\n",
    "    s4_N_indexes = cell_indeces_flat + np.array([N, -N])\n",
    "    s4_N_values = ro.flatten()[s4_N_indexes] * m2\n",
    "    s4_N_sum = np.sum(s4_N_values, axis=1)\n",
    "    s4 = (s4_V_sum / s4_N_sum).reshape(S-4, N-4, N-4)\n",
    "\n",
    "    s5_V_indexes = cell_indeces_flat + np.array([1, -1, 2, -2])\n",
    "    s5_V_values = P_p.flatten()[s5_V_indexes] * m1\n",
    "    s5_V_sum = np.sum(s5_V_values, axis=1)\n",
    "    s5_N_indexes = cell_indeces_flat + np.array([N, -N])\n",
    "    s5_N_values = ro.flatten()[s5_N_indexes] * m2\n",
    "    s5_N_sum = np.sum(s5_N_values, axis=1)\n",
    "    s5 = (s5_V_sum / s5_N_sum).reshape(S-4, N-4, N-4)\n",
    "\n",
    "    Z[2:-2, 2:-2, 2:-2] += (s3 + s4 + s5) * ro[2:-2, 2:-2, 2:-2]\n",
    "    \n",
    "    P[2:-2, 2:-2, 2:-2] -= Z[2:-2, 2:-2, 2:-2] * K_2_by_3[2:-2, 2:-2, 2:-2]\n",
    "#     P -= Z * K_2_by_3\n",
    "\n",
    "\n",
    "    P[ro < 0.1] = 0\n",
    "#     return P[2:-2, 2:-2, 2:-2] # should return array of shape (S, N, N)\n",
    "#     print(np.mean(P))\n",
    "#     print(f'bug police: {np.sum(P[:2])}') # for some reason outside boundaries != 0. P_step() should affect only inner slice of array [2:-2, 2:-2, 2:-2]\n",
    "    return P"
   ]
  },
  {
   "cell_type": "code",
   "execution_count": 32,
   "metadata": {},
   "outputs": [
    {
     "data": {
      "image/png": "[encoded data removed]",
      "text/plain": [
       "<matplotlib.figure.Figure at 0x112f561d0>"
      ]
     },
     "metadata": {},
     "output_type": "display_data"
    }
   ],
   "source": [
    "steps = 100\n",
    "img = np.zeros((steps, N))\n",
    "A, B, C = 0, N//2, N//2 # sound source location\n",
    "\n",
    "f = 440\n",
    "T = np.linspace(0, 2, steps)\n",
    "soundwave = np.sin(2 * np.pi * f * T)\n",
    "propagated = np.zeros_like(soundwave)\n",
    "\n",
    "\n",
    "for i, s in enumerate(soundwave):\n",
    "    P_old = P\n",
    "    P     = P_step(P_pp, P_p)\n",
    "    P[A, B, C] = s\n",
    "\n",
    "\n",
    "    P_pp  = P_p\n",
    "    P_p   = P_old\n",
    "    \n",
    "    propagated[i] = P[-1, N//2, N//2] # location of \n",
    "\n",
    "#     print(P[3,3,3], P.max(), ro.mean(), sep='\\t') # print or save or send to visualisation method\n",
    "#     img[i] = P[-1, 4]\n",
    "#     img[i] = P[0, N//2]\n",
    "    \n",
    "plt.plot(T, soundwave,'b')\n",
    "plt.plot(T, propagated,'r')\n",
    "plt.show()"
   ]
  },
  {
   "cell_type": "markdown",
   "metadata": {},
   "source": [
    "---\n",
    "\n",
    "---\n",
    "\n",
    "---\n",
    "\n",
    "# Test"
   ]
  },
  {
   "cell_type": "code",
   "execution_count": 5,
   "metadata": {},
   "outputs": [
    {
     "name": "stdout",
     "output_type": "stream",
     "text": [
      "A\tB\tC\n",
      "1\t1\t1\n",
      "1\t1\t2\n",
      "1\t2\t2\n",
      "2\t2\t3\n",
      "2\t3\t4\n",
      "3\t4\t5\n",
      "4\t5\t7\n",
      "5\t7\t9\n",
      "7\t9\t12\n",
      "9\t12\t16\n",
      "12\t16\t21\n"
     ]
    }
   ],
   "source": [
    "# A = np.array([1])\n",
    "# B = np.array([1])\n",
    "# C = np.array([1])\n",
    "A, B, C = 1, 1, 1\n",
    "print('A\\tB\\tC')\n",
    "print(A, B, C, sep='\\t')\n",
    "for i in range(10):\n",
    "    C_old = C\n",
    "    \n",
    "    C = A + B\n",
    "    A = B\n",
    "    B = C_old\n",
    "    print(A, B, C, sep='\\t')"
   ]
  },
  {
   "cell_type": "code",
   "execution_count": null,
   "metadata": {},
   "outputs": [],
   "source": []
  },
  {
   "cell_type": "markdown",
   "metadata": {},
   "source": [
    "# numpy masking for re􏰦flecting condition\n",
    "re􏰦flecting condition (includes all boundaries):\n",
    "$$\\large\\rho(\\mathbf{x}, t) = 0,\\quad \\textrm{if} \\quad \\rho(\\mathbf{x}) < 0.1 \\textrm{g/cc},\\quad \\mathbf{x} = [x, y, z]$$"
   ]
  },
  {
   "cell_type": "code",
   "execution_count": 6,
   "metadata": {},
   "outputs": [],
   "source": [
    "rho = np.array([0.13, 0.2, 0.01, 0.4, 0.03, 0, 0.9])\n",
    "p   = np.array([   1,   2,    3,   4,    5, 6,   7])"
   ]
  },
  {
   "cell_type": "code",
   "execution_count": 7,
   "metadata": {},
   "outputs": [
    {
     "data": {
      "text/plain": [
       "array([3, 5, 6])"
      ]
     },
     "execution_count": 7,
     "metadata": {},
     "output_type": "execute_result"
    }
   ],
   "source": [
    "p[rho < 0.1]"
   ]
  },
  {
   "cell_type": "code",
   "execution_count": 8,
   "metadata": {},
   "outputs": [],
   "source": [
    "p[rho < 0.1] = 0"
   ]
  },
  {
   "cell_type": "markdown",
   "metadata": {},
   "source": [
    "# check if boundaries `== 0`"
   ]
  },
  {
   "cell_type": "code",
   "execution_count": 9,
   "metadata": {},
   "outputs": [
    {
     "data": {
      "text/plain": [
       "array([[1, 2, 4, 3, 1, 4, 4, 2],\n",
       "       [4, 4, 1, 2, 4, 4, 2, 1]])"
      ]
     },
     "execution_count": 9,
     "metadata": {},
     "output_type": "execute_result"
    }
   ],
   "source": [
    "x = np.random.randint(1, 5,size=(8, 8))\n",
    "x[:2]"
   ]
  },
  {
   "cell_type": "code",
   "execution_count": 10,
   "metadata": {},
   "outputs": [
    {
     "data": {
      "text/plain": [
       "array([0, 0, 1, 1, 1, 3, 3, 3])"
      ]
     },
     "execution_count": 10,
     "metadata": {},
     "output_type": "execute_result"
    }
   ],
   "source": [
    "x = np.array([1, 2, 1, 1, 1, 3, 3, 3])\n",
    "x[:2] = 0\n",
    "x"
   ]
  },
  {
   "cell_type": "code",
   "execution_count": null,
   "metadata": {},
   "outputs": [],
   "source": []
  }
 ],
 "metadata": {
  "kernelspec": {
   "display_name": "Python 3",
   "language": "python",
   "name": "python3"
  },
  "language_info": {
   "codemirror_mode": {
    "name": "ipython",
    "version": 3
   },
   "file_extension": ".py",
   "mimetype": "text/x-python",
   "name": "python",
   "nbconvert_exporter": "python",
   "pygments_lexer": "ipython3",
   "version": "3.6.4"
  }
 },
 "nbformat": 4,
 "nbformat_minor": 2
}
