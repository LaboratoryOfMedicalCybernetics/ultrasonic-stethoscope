{
 "cells": [
  {
   "cell_type": "code",
   "execution_count": 28,
   "metadata": {},
   "outputs": [],
   "source": [
    "# This code compares triple-for loop and flat von neimann neighbours implementations\n",
    "# and tests if this 2 methods gives the same result\n",
    "# also test that 460 instead of 512 on 0-axis\n",
    "\n",
    "# firstly i remove this condition:\n",
    "            # if ro[i, j, k] < 0.1 and i != A and j != B and k != C: # refl􏰂ecting condition | use numpy masking\n",
    "                # P[i, j, k] = 0\n",
    "\n",
    "import numpy as np\n",
    "from time import time\n",
    "import matplotlib.pyplot as plt\n",
    "plt.rcParams['figure.figsize'] = [10, 10] # 10 x 10 inches plot"
   ]
  },
  {
   "cell_type": "code",
   "execution_count": 59,
   "metadata": {},
   "outputs": [],
   "source": [
    "N = 8\n",
    "S = 6 # number of slices / CT-images / scans\n",
    "\n",
    "r = np.random.random((S, N, N))\n",
    "# r = np.load('r.npy')\n",
    "ro  = 1e-5 + 1.24e-3*r - 2.83e-7*r*r + 2.79e-11*r*r*r\n",
    "c = (ro + 0.112) * 1.38e-6\n",
    "\n",
    "# тут не факт что все 1\n",
    "l = 1 # dt\n",
    "h = 1 # dx = dy = dz\n",
    "\n",
    "K = l / h * c\n",
    "K2 = K**2\n",
    "K_2_by_3 = K**2 / 3\n",
    "# K2_3_ro = K2 / 3 / ro\n",
    "\n",
    "\n",
    "# initial conditions\n",
    "P_pp = np.random.random((S, N, N)) # previous previous t - 2\n",
    "P_p  = np.random.random((S, N, N)) # previous          t - 1\n",
    "P    = np.random.random((S, N, N)) # current           t\n",
    "\n",
    "# P_pp = np.arange(N**3).reshape(N, N, N) * 10.\n",
    "# P_p = np.arange(N**3).reshape(N, N, N) * 12.\n",
    "# P_pp = np.load('P_pp.npy')\n",
    "# P_p = np.load('P_p.npy')\n",
    "# P    = np.zeros((S, N, N), dtype=np.float64) # current           t\n",
    "\n",
    "# np.save('P_pp.npy', P_pp)\n",
    "# np.save('P_p.npy', P_p)\n",
    "# np.save('r.npy', r)"
   ]
  },
  {
   "cell_type": "code",
   "execution_count": 60,
   "metadata": {},
   "outputs": [],
   "source": [
    "def P_step(P_pp, P_p):\n",
    "    '''\n",
    "    mb work with flat and then reshape in return\n",
    "    norm by now, mb add some more optimisations in future, also cuda\n",
    "    '''\n",
    "\n",
    "    S = P_p.shape[0]\n",
    "    N = P_p.shape[1]\n",
    "\n",
    "    P = 2 * P_p - P_pp\n",
    "    Z = 22.5 * P_p\n",
    "    \n",
    "\n",
    "    cell_indeces_flat = np.arange(S * N * N).reshape(S, N, N)[2:-2, 2:-2, 2:-2].flatten().reshape(-1, 1) # vertical vector\n",
    "\n",
    "    s1_indexes_flat = cell_indeces_flat + np.array([-1, 1, -N, N, -N**2, N**2])      # i±1 j±1 k±1 \n",
    "    s2_indexes_flat = cell_indeces_flat + np.array([-1, 1, -N, N, -N**2, N**2]) * 2  # i±2 j±2 k±2 \n",
    "    s1_values = P_p.flatten()[s1_indexes_flat] # each row contains 6 neighbors of cell \n",
    "    s2_values = P_p.flatten()[s2_indexes_flat] # each row contains 6 neighbors of cell \n",
    "    s1 = np.sum(s1_values, axis=1) # sum by axis=1 is faster for default order\n",
    "    s2 = np.sum(s2_values, axis=1)\n",
    "\n",
    "    Z[2:-2, 2:-2, 2:-2] -=   4 * s1.reshape(S-4, N-4, N-4)\n",
    "    Z[2:-2, 2:-2, 2:-2] += 1/4 * s2.reshape(S-4, N-4, N-4)\n",
    "\n",
    "\n",
    "    m1 = np.array([1, -1, -1/8, -1/8])\n",
    "    m2 = np.array([1, -1])\n",
    "\n",
    "    s3_V_indexes = cell_indeces_flat + np.array([N**2, -N**2, 2*N**2, -2*N**2])\n",
    "    s3_V_values = P_p.flatten()[s3_V_indexes] * m1 # po idee mozhno za skobki kak to vinesti m1 i m2\n",
    "    s3_V_sum = np.sum(s3_V_values, axis=1)\n",
    "    s3_N_indexes = cell_indeces_flat + np.array([N**2, -N**2])\n",
    "    s3_N_values = ro.flatten()[s3_N_indexes] * m2\n",
    "    s3_N_sum = np.sum(s3_N_values, axis=1)\n",
    "    s3 = (s3_V_sum / s3_N_sum).reshape(S-4, N-4, N-4)\n",
    "\n",
    "    s4_V_indexes = cell_indeces_flat + np.array([N, -N, 2*N, -2*N])\n",
    "    s4_V_values = P_p.flatten()[s4_V_indexes] * m1\n",
    "    s4_V_sum = np.sum(s4_V_values, axis=1)\n",
    "    s4_N_indexes = cell_indeces_flat + np.array([N, -N])\n",
    "    s4_N_values = ro.flatten()[s4_N_indexes] * m2\n",
    "    s4_N_sum = np.sum(s4_N_values, axis=1)\n",
    "    s4 = (s4_V_sum / s4_N_sum).reshape(S-4, N-4, N-4)\n",
    "\n",
    "    s5_V_indexes = cell_indeces_flat + np.array([1, -1, 2, -2])\n",
    "    s5_V_values = P_p.flatten()[s5_V_indexes] * m1\n",
    "    s5_V_sum = np.sum(s5_V_values, axis=1)\n",
    "    s5_N_indexes = cell_indeces_flat + np.array([N, -N])\n",
    "    s5_N_values = ro.flatten()[s5_N_indexes] * m2\n",
    "    s5_N_sum = np.sum(s5_N_values, axis=1)\n",
    "    s5 = (s5_V_sum / s5_N_sum).reshape(S-4, N-4, N-4)\n",
    "\n",
    "    Z[2:-2, 2:-2, 2:-2] += (s3 + s4 + s5) * ro[2:-2, 2:-2, 2:-2]\n",
    "    P -= Z * K_2_by_3\n",
    "    P[ro < 0.1] = 0\n",
    "#     return P[2:-2, 2:-2, 2:-2] # should return array of shape (S, N, N)\n",
    "    return P"
   ]
  },
  {
   "cell_type": "code",
   "execution_count": 61,
   "metadata": {},
   "outputs": [
    {
     "name": "stdout",
     "output_type": "stream",
     "text": [
      "0.0007650852203369141\n"
     ]
    }
   ],
   "source": [
    "t0 = time()\n",
    "P2 = P_step(P_pp, P_p)\n",
    "t_P2 = time() - t0\n",
    "print(t_P2)"
   ]
  },
  {
   "cell_type": "code",
   "execution_count": 62,
   "metadata": {},
   "outputs": [
    {
     "name": "stdout",
     "output_type": "stream",
     "text": [
      "0.0\n",
      "0.0\n",
      "0.0\n",
      "0.0\n",
      "0.0\n",
      "0.0\n",
      "0.0\n",
      "0.0\n",
      "0.0\n",
      "0.0\n",
      "0.0\n",
      "0.0\n",
      "0.0\n",
      "0.0\n",
      "0.0\n",
      "0.0\n",
      "0.0\n",
      "0.0\n",
      "0.0\n",
      "0.0\n"
     ]
    },
    {
     "data": {
      "text/plain": [
       "<matplotlib.image.AxesImage at 0x1057433c8>"
      ]
     },
     "execution_count": 62,
     "metadata": {},
     "output_type": "execute_result"
    },
    {
     "data": {
      "image/png": "[encoded data removed]",
      "text/plain": [
       "<matplotlib.figure.Figure at 0x1055b72b0>"
      ]
     },
     "metadata": {},
     "output_type": "display_data"
    }
   ],
   "source": [
    "steps = 20\n",
    "img = np.zeros((steps, N))\n",
    "for i in range(steps):\n",
    "    P_pp_new = P_p\n",
    "    P_p_new  = P\n",
    "    P_new = P_step(P_pp, P_p)\n",
    "    \n",
    "    print(P_new[3,3,3]) # print or save or send to visualisation method\n",
    "    img[i] = P_new[-1, 3]\n",
    "\n",
    "\n",
    "    P_pp = P_pp_new\n",
    "    P_p  = P_p_new\n",
    "    P    = P_new\n",
    "plt.imshow(img.T)"
   ]
  },
  {
   "cell_type": "markdown",
   "metadata": {},
   "source": [
    "---\n",
    "\n",
    "---\n",
    "\n",
    "---\n",
    "\n",
    "# Test"
   ]
  },
  {
   "cell_type": "code",
   "execution_count": null,
   "metadata": {},
   "outputs": [],
   "source": [
    "# A = np.array([1])\n",
    "# B = np.array([1])\n",
    "# C = np.array([1])\n",
    "A, B, C = 1, 1, 1\n",
    "print('A\\tB\\tC')\n",
    "print(A, B, C, sep='\\t')\n",
    "for i in range(10):\n",
    "    A_new = B\n",
    "    B_new = C\n",
    "    C_new = A + B\n",
    "    print(A_new, B_new, C_new, sep='\\t') # print or save or send to visualisation method\n",
    "    \n",
    "    A = A_new\n",
    "    B = B_new\n",
    "    C = C_new"
   ]
  },
  {
   "cell_type": "code",
   "execution_count": null,
   "metadata": {},
   "outputs": [],
   "source": []
  },
  {
   "cell_type": "markdown",
   "metadata": {},
   "source": [
    "# numpy masking for re􏰦flecting condition\n",
    "re􏰦flecting condition (includes all boundaries):\n",
    "$$\\rho(\\mathbf{x}, t) = 0 if 􏰩\\rho(\\mathbf{x}) < 0.1 g/cc, \\mathbf{x} = [x, y, z]$$"
   ]
  },
  {
   "cell_type": "code",
   "execution_count": 46,
   "metadata": {},
   "outputs": [],
   "source": [
    "rho = np.array([0.13, 0.2, 0.01, 0.4, 0.03, 0, 0.9])\n",
    "p   = np.array([   1,   2,    3,   4,    5, 6,   7])"
   ]
  },
  {
   "cell_type": "code",
   "execution_count": 47,
   "metadata": {},
   "outputs": [
    {
     "data": {
      "text/plain": [
       "array([3, 5, 6])"
      ]
     },
     "execution_count": 47,
     "metadata": {},
     "output_type": "execute_result"
    }
   ],
   "source": [
    "p[rho < 0.1]"
   ]
  },
  {
   "cell_type": "code",
   "execution_count": 48,
   "metadata": {},
   "outputs": [],
   "source": [
    "p[rho < 0.1] = 0"
   ]
  },
  {
   "cell_type": "code",
   "execution_count": null,
   "metadata": {},
   "outputs": [],
   "source": []
  }
 ],
 "metadata": {
  "kernelspec": {
   "display_name": "Python 3",
   "language": "python",
   "name": "python3"
  },
  "language_info": {
   "codemirror_mode": {
    "name": "ipython",
    "version": 3
   },
   "file_extension": ".py",
   "mimetype": "text/x-python",
   "name": "python",
   "nbconvert_exporter": "python",
   "pygments_lexer": "ipython3",
   "version": "3.6.4"
  }
 },
 "nbformat": 4,
 "nbformat_minor": 2
}
